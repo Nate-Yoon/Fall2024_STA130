{
 "cells": [
  {
   "cell_type": "code",
   "execution_count": 1,
   "id": "dcb229fd",
   "metadata": {},
   "outputs": [
    {
     "data": {
      "text/plain": [
       "2"
      ]
     },
     "execution_count": 1,
     "metadata": {},
     "output_type": "execute_result"
    }
   ],
   "source": [
    "1+1"
   ]
  },
  {
   "cell_type": "code",
   "execution_count": 10,
   "id": "9cf37de1",
   "metadata": {
    "scrolled": true
   },
   "outputs": [
    {
     "name": "stdout",
     "output_type": "stream",
     "text": [
      "                                               Title  \\\n",
      "0  Ferdinandsbrücke Project, Vienna, Austria (Ele...   \n",
      "1  City of Music, National Superior Conservatory ...   \n",
      "2  Villa project, outside Vienna, Austria (Elevat...   \n",
      "3  The Manhattan Transcripts Project, New York, N...   \n",
      "4  Villa project, outside Vienna, Austria (Exteri...   \n",
      "\n",
      "                     Artist ConstituentID  \\\n",
      "0               Otto Wagner          6210   \n",
      "1  Christian de Portzamparc          7470   \n",
      "2                Emil Hoppe          7605   \n",
      "3           Bernard Tschumi          7056   \n",
      "4                Emil Hoppe          7605   \n",
      "\n",
      "                                   ArtistBio Nationality BeginDate EndDate  \\\n",
      "0                      (Austrian, 1841–1918)  (Austrian)    (1841)  (1918)   \n",
      "1                        (French, born 1944)    (French)    (1944)     (0)   \n",
      "2                      (Austrian, 1876–1957)  (Austrian)    (1876)  (1957)   \n",
      "3  (French and Swiss, born Switzerland 1944)          ()    (1944)     (0)   \n",
      "4                      (Austrian, 1876–1957)  (Austrian)    (1876)  (1957)   \n",
      "\n",
      "   Gender  Date                                             Medium  ...  \\\n",
      "0  (male)  1896      Ink and cut-and-pasted painted pages on paper  ...   \n",
      "1  (male)  1987                  Paint and colored pencil on print  ...   \n",
      "2  (male)  1903  Graphite, pen, color pencil, ink, and gouache ...  ...   \n",
      "3  (male)  1980  Photographic reproduction with colored synthet...  ...   \n",
      "4  (male)  1903  Graphite, color pencil, ink, and gouache on tr...  ...   \n",
      "\n",
      "  OnView Circumference (cm) Depth (cm) Diameter (cm) Height (cm) Length (cm)  \\\n",
      "0    NaN                NaN        NaN           NaN     48.6000         NaN   \n",
      "1    NaN                NaN        NaN           NaN     40.6401         NaN   \n",
      "2    NaN                NaN        NaN           NaN     34.3000         NaN   \n",
      "3    NaN                NaN        NaN           NaN     50.8000         NaN   \n",
      "4    NaN                NaN        NaN           NaN     38.4000         NaN   \n",
      "\n",
      "  Weight (kg)  Width (cm) Seat Height (cm) Duration (sec.)  \n",
      "0         NaN    168.9000              NaN             NaN  \n",
      "1         NaN     29.8451              NaN             NaN  \n",
      "2         NaN     31.8000              NaN             NaN  \n",
      "3         NaN     50.8000              NaN             NaN  \n",
      "4         NaN     19.1000              NaN             NaN  \n",
      "\n",
      "[5 rows x 30 columns]\n",
      "Title                     48\n",
      "Artist                  1261\n",
      "ConstituentID           1261\n",
      "ArtistBio               6078\n",
      "Nationality             1261\n",
      "BeginDate               1261\n",
      "EndDate                 1261\n",
      "Gender                  1261\n",
      "Date                    2018\n",
      "Medium                  9254\n",
      "Dimensions              8644\n",
      "CreditLine              1524\n",
      "AccessionNumber            0\n",
      "Classification             0\n",
      "Department                 0\n",
      "DateAcquired            6786\n",
      "Cataloged                  0\n",
      "ObjectID                   0\n",
      "URL                    56648\n",
      "ImageURL               66024\n",
      "OnView                155299\n",
      "Circumference (cm)    156623\n",
      "Depth (cm)            138818\n",
      "Diameter (cm)         155164\n",
      "Height (cm)            28747\n",
      "Length (cm)           155922\n",
      "Weight (kg)           156337\n",
      "Width (cm)             29674\n",
      "Seat Height (cm)      156633\n",
      "Duration (sec.)       154681\n",
      "dtype: int64\n"
     ]
    }
   ],
   "source": [
    "\n",
    "import pandas as pd\n",
    "\n",
    "# URL link to the CSV file on GitHub\n",
    "url = \"https://media.githubusercontent.com/media/MuseumofModernArt/collection/main/Artworks.csv\"\n",
    "\n",
    "# Load the dataset directly into a DataFrame\n",
    "moma_data = pd.read_csv(url)\n",
    "\n",
    "# Display the first few rows of the dataset\n",
    "print(moma_data.head())\n",
    "\n",
    "# Check for missing values in the dataset\n",
    "print(moma_data.isnull().sum())\n"
   ]
  },
  {
   "cell_type": "code",
   "execution_count": 11,
   "id": "efedf014",
   "metadata": {},
   "outputs": [
    {
     "name": "stdout",
     "output_type": "stream",
     "text": [
      "Missing values per column:\n",
      "Title                     48\n",
      "Artist                  1261\n",
      "ConstituentID           1261\n",
      "ArtistBio               6078\n",
      "Nationality             1261\n",
      "BeginDate               1261\n",
      "EndDate                 1261\n",
      "Gender                  1261\n",
      "Date                    2018\n",
      "Medium                  9254\n",
      "Dimensions              8644\n",
      "CreditLine              1524\n",
      "AccessionNumber            0\n",
      "Classification             0\n",
      "Department                 0\n",
      "DateAcquired            6786\n",
      "Cataloged                  0\n",
      "ObjectID                   0\n",
      "URL                    56648\n",
      "ImageURL               66024\n",
      "OnView                155299\n",
      "Circumference (cm)    156623\n",
      "Depth (cm)            138818\n",
      "Diameter (cm)         155164\n",
      "Height (cm)            28747\n",
      "Length (cm)           155922\n",
      "Weight (kg)           156337\n",
      "Width (cm)             29674\n",
      "Seat Height (cm)      156633\n",
      "Duration (sec.)       154681\n",
      "dtype: int64\n"
     ]
    }
   ],
   "source": [
    "# Check for missing values in the dataset\n",
    "missing_values = moma_data.isnull().sum()\n",
    "\n",
    "# Print the count of missing values for each column\n",
    "print(\"Missing values per column:\")\n",
    "print(missing_values)"
   ]
  },
  {
   "cell_type": "markdown",
   "id": "35ac62c2",
   "metadata": {},
   "source": [
    "https://chatgpt.com/share/672d0bac-b8e2-4562-a800-4c9cc64d8753\n",
    "\n"
   ]
  }
 ],
 "metadata": {
  "kernelspec": {
   "display_name": "Python 3 (ipykernel)",
   "language": "python",
   "name": "python3"
  },
  "language_info": {
   "codemirror_mode": {
    "name": "ipython",
    "version": 3
   },
   "file_extension": ".py",
   "mimetype": "text/x-python",
   "name": "python",
   "nbconvert_exporter": "python",
   "pygments_lexer": "ipython3",
   "version": "3.11.6"
  }
 },
 "nbformat": 4,
 "nbformat_minor": 5
}
